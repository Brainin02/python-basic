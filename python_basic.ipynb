{
  "nbformat": 4,
  "nbformat_minor": 0,
  "metadata": {
    "colab": {
      "provenance": []
    },
    "kernelspec": {
      "name": "python3",
      "display_name": "Python 3"
    },
    "language_info": {
      "name": "python"
    }
  },
  "cells": [
    {
      "cell_type": "markdown",
      "source": [
        "# Python Basic\n"
      ],
      "metadata": {
        "id": "gCSofzyx37Sj"
      }
    },
    {
      "cell_type": "markdown",
      "source": [
        "1. What is Python, and why is it popular ?\n",
        "ans-Python is a high-level, interpreted programming language known for its simplicity and readability. It was created by Guido van Rossum and first released in 1991. Python emphasizes code readability with its clean syntax, making it easier for developers to write and maintain code. It supports multiple programming paradigms, including procedural, object-oriented, and functional programming.\n",
        "  \n",
        "   Python’s popularity comes from several key advantages:\n",
        "\n",
        "  a.Easy to Learn and Use.\n",
        "\n",
        "  b.Versatile and Multipurpose\n",
        "\n",
        "  c.Cross-Platform Compatibility\n",
        "\n",
        "  d.Large Community Support\n",
        "\n",
        "  e.Rich Libraries and Frameworks\n",
        "\n",
        "  f.Strong in Automation and Scripting\n",
        "\n",
        "  g.High Demand in Job Market\n",
        "  \n",
        "  h.Used by Big Companies\n",
        "\n",
        "2. What is an Interpreter in Python?\n",
        "\n",
        " ans- An interpreter in Python is a program that executes Python code line by line, converting high-level Python instructions into machine code that the computer can understand. Unlike compiled languages (e.g., C, Java), where the entire code is converted into machine language before execution, Python executes code dynamically during runtime.\n",
        "\n",
        "3. What are pre-defined keywords in Python ?\n",
        "\n",
        " ans- Predefined keywords (also called reserved words) in Python are special words that have a fixed meaning and cannot be used as variable names, function names, or identifiers. These keywords define the syntax and structure of the Python language.\n",
        "\n",
        "4. Can keywords be used as variable names ?\n",
        "\n",
        " ans- No, Python keywords cannot be used as variable names because they have predefined meanings and are reserved for specific functionalities in the language. Using a keyword as a variable name will result in a SyntaxError.\n",
        "\n",
        "5. What is mutability in Python ?\n",
        "\n",
        " ans-Mutability in Python refers to whether an object’s state (its values) can be changed after it is created.\n",
        "\n",
        " Mutable objects: Can be modified after creation.\n",
        "Immutable objects: Cannot be changed once created; any modification creates a new object.\n",
        "\n",
        "6. Why are lists mutable, but tuples are immutable?\n",
        "\n",
        " ans-The main difference between lists and tuples in Python is mutability:\n",
        "\n",
        " Lists are mutable → They can be changed after creation.\n",
        "\n",
        " Tuples are immutable → They cannot be changed once created.\n",
        "\n",
        " This difference exists due to design choices in Python, based on performance, memory efficiency, and data safety.\n",
        "\n",
        "\n",
        "7. What is the difference between “==” and “is” operators in Python ?\n",
        "\n",
        " ans- Difference Between == and is Operators in Python\n",
        "In Python, == (Equality Operator) and is (Identity Operator) are used for different comparisons:\n",
        "\n",
        "  a. == (Equality Operator) – Compares Values\n",
        "The == operator checks whether two objects have the same value, regardless of whether they are stored in the same memory location.\n",
        "\n",
        "  b. is (Identity Operator) – Compares Memory Addresses\n",
        "The is operator checks whether two variables reference the same object in memory.\n",
        "\n",
        "8. What are logical operators in Python?\n",
        "\n",
        "  ans- Logical operators in Python are used to perform boolean logic operations on expressions. They return True or False based on the conditions evaluated.\n",
        "\n",
        "9. What is type casting in Python?\n",
        "\n",
        "  ans- Type casting (also called type conversion) in Python is the process of converting one data type into another. This is useful when working with different data types in expressions or functions.\n",
        "\n",
        "10. What is the difference between implicit and explicit type casting\n",
        "\n",
        "  ans- Difference Between Implicit and Explicit Type Casting in Python\n",
        "Type casting (also known as type conversion) in Python can be done in two ways:\n",
        "\n",
        "   a. Implicit Type Casting (Automatic)\n",
        "\n",
        "   b. Explicit Type Casting (Manual)\n",
        "\n",
        "11. What is the purpose of conditional statements in Python?\n",
        "\n",
        "  ans - Conditional statements in Python are used to perform different actions based on different conditions. They allow the program to make decisions and execute specific blocks of code depending on whether a given condition is True or False. This is a fundamental concept in programming that enables decision-making, allowing programs to behave dynamically and respond to varying inputs.\n",
        "\n",
        "12. How does the elif statement work?\n",
        "\n",
        "  ans- The elif (short for \"else if\") statement in Python allows you to check multiple conditions after the initial if condition. It enables a program to choose between several possible paths based on different conditions.\n",
        "\n",
        "   If the condition in the if statement is False, Python evaluates the condition in the elif statement. If the condition in the elif is also False, it moves to the next elif or the else block (if present).\n",
        "\n",
        "13. What is the difference between for and while loops?\n",
        "\n",
        "  ans- Both for and while loops are used for repeating a block of code, but they have different ways of controlling the iteration and terminating the loop.\n",
        "\n",
        "  1. for Loop\n",
        "  : The for loop is used when you know exactly how many times you want to iterate over a sequence (like a list, tuple, string, or range). It iterates over each element of the sequence.\n",
        "  2. while Loop\n",
        ": The while loop is used when you want to repeat a block of code as long as a condition is True. The number of iterations is not pre-determined and depends on the condition you provide.\n",
        "\n",
        "14. Describe a scenario where a while loop is more suitable than a for loop.\n",
        "\n",
        "  ans- A while loop is more suitable when you want to repeatedly prompt a user for input until they provide the correct answer or meet a certain condition.For example, in a login system where the user is repeatedly asked to enter a username and password until the correct credentials are entered, a while loop would be ideal. This is because the number of attempts is not predetermined, and the loop should continue until a specific condition (correct login) is met.\n",
        "\n",
        "\n",
        "\n",
        "\n",
        "\n"
      ],
      "metadata": {
        "id": "XdfYLtUP4PMS"
      }
    },
    {
      "cell_type": "code",
      "source": [
        "# Write a Python program to print \"Hello, World!_\n",
        "print(\"Hello, World!\")"
      ],
      "metadata": {
        "id": "nftmzcjfAPM0"
      },
      "execution_count": null,
      "outputs": []
    },
    {
      "cell_type": "code",
      "source": [
        "#  Write a Python program that displays your name and age\n",
        "name = \"Brainin Sapam\"\n",
        "age = 20\n",
        "print(\"Name: Brainin Sapam\")\n",
        "print(\"Age: 20\")"
      ],
      "metadata": {
        "colab": {
          "base_uri": "https://localhost:8080/"
        },
        "id": "nD6jrJjFAktf",
        "outputId": "60dd93c8-a2cd-4485-baf5-d3a909f8d4af"
      },
      "execution_count": 2,
      "outputs": [
        {
          "output_type": "stream",
          "name": "stdout",
          "text": [
            "Name: Brainin Sapam\n",
            "Age: 20\n"
          ]
        }
      ]
    },
    {
      "cell_type": "code",
      "source": [
        "#Write code to print all the pre-defined keywords in Python using the keyword library\n",
        "import keyword\n",
        "\n",
        "# Get the list of all keywords in Python\n",
        "keywords = keyword.kwlist\n",
        "\n",
        "# Print all the keywords\n",
        "print(\"Python Keywords:\")\n",
        "for kw in keywords:\n",
        "    print(kw)"
      ],
      "metadata": {
        "colab": {
          "base_uri": "https://localhost:8080/"
        },
        "id": "AFR5YMpUBri4",
        "outputId": "316204bf-1283-40ab-90b1-40d89e20017c"
      },
      "execution_count": 3,
      "outputs": [
        {
          "output_type": "stream",
          "name": "stdout",
          "text": [
            "Python Keywords:\n",
            "False\n",
            "None\n",
            "True\n",
            "and\n",
            "as\n",
            "assert\n",
            "async\n",
            "await\n",
            "break\n",
            "class\n",
            "continue\n",
            "def\n",
            "del\n",
            "elif\n",
            "else\n",
            "except\n",
            "finally\n",
            "for\n",
            "from\n",
            "global\n",
            "if\n",
            "import\n",
            "in\n",
            "is\n",
            "lambda\n",
            "nonlocal\n",
            "not\n",
            "or\n",
            "pass\n",
            "raise\n",
            "return\n",
            "try\n",
            "while\n",
            "with\n",
            "yield\n"
          ]
        }
      ]
    },
    {
      "cell_type": "code",
      "source": [
        "#Write a program that checks if a given word is a Python keyword0\n",
        "import keyword\n",
        "\n",
        "word = input(\"FOR: \")\n",
        "if keyword.iskeyword(word):\n",
        "    print(f\"'{word}' is a Python keyword.\")\n",
        "else:\n",
        "    print(f\"'{word}' is not a Python keyword.\")"
      ],
      "metadata": {
        "colab": {
          "base_uri": "https://localhost:8080/"
        },
        "id": "88-b070BIzMI",
        "outputId": "36234717-3fd7-45f0-9e0c-d76de09e99ec"
      },
      "execution_count": 13,
      "outputs": [
        {
          "output_type": "stream",
          "name": "stdout",
          "text": [
            "FOR: for is a python word\n",
            "'for is a python word' is not a Python keyword.\n"
          ]
        }
      ]
    },
    {
      "cell_type": "code",
      "source": [
        "#Create a list and tuple in Python, and demonstrate how attempting to change an element works differently\n",
        "#for each.\n",
        "# Creating a list and a tuple\n",
        "my_list = [1, 2, 3, 4, 5]\n",
        "my_tuple = (1, 2, 3, 4, 5)\n",
        "\n",
        "# Attempting to change an element in the list\n",
        "print(\"Original List:\", my_list)\n",
        "my_list[0] = 10  # Changing the first element of the list\n",
        "print(\"Modified List:\", my_list)\n",
        "\n",
        "# Attempting to change an element in the tuple\n",
        "print(\"Original Tuple:\", my_tuple)\n",
        "try:\n",
        "    my_tuple[0] = 10  # Attempting to change the first element of the tuple\n",
        "except TypeError as e:\n",
        "    print(f\"Error: {e}\")  # Will raise an error because tuples are immutable\n",
        "\n"
      ],
      "metadata": {
        "colab": {
          "base_uri": "https://localhost:8080/"
        },
        "id": "1cgQLiqsKKne",
        "outputId": "56595b7b-0836-429c-95e4-ad53218d7a5e"
      },
      "execution_count": 18,
      "outputs": [
        {
          "output_type": "stream",
          "name": "stdout",
          "text": [
            "Original List: [1, 2, 3, 4, 5]\n",
            "Modified List: [10, 2, 3, 4, 5]\n",
            "Original Tuple: (1, 2, 3, 4, 5)\n",
            "Error: 'tuple' object does not support item assignment\n"
          ]
        }
      ]
    },
    {
      "cell_type": "code",
      "source": [
        "#Write a function to demonstrate the behavior of mutable and immutable arguments\n",
        "\n",
        "def modify_immutable(x):\n",
        "    print(f\"Before modification (immutable): {x}, ID: {id(x)}\")\n",
        "    x += 10\n",
        "    print(f\"After modification (immutable): {x}, ID: {id(x)}\")\n",
        "def modify_mutable(lst):\n",
        "    print(f\"Before modification (mutable): {lst}, ID: {id(lst)}\")\n",
        "    lst.append(100)  # Modifies the original list\n",
        "    print(f\"After modification (mutable): {lst}, ID: {id(lst)}\")\n",
        "num = 50\n",
        "modify_immutable(num)\n",
        "print(f\"Outside function (immutable): {num}\")\n",
        "\n",
        "print(\"-\" * 40)\n",
        "my_list = [1, 2, 3]\n",
        "modify_mutable(my_list)\n",
        "print(f\"Outside function (mutable): {my_list}\")\n"
      ],
      "metadata": {
        "colab": {
          "base_uri": "https://localhost:8080/"
        },
        "id": "sSViD8A3L5gE",
        "outputId": "f72bf4ff-0211-47b3-990b-81312a478208"
      },
      "execution_count": 20,
      "outputs": [
        {
          "output_type": "stream",
          "name": "stdout",
          "text": [
            "Before modification (immutable): 50, ID: 10752424\n",
            "After modification (immutable): 60, ID: 10752744\n",
            "Outside function (immutable): 50\n",
            "----------------------------------------\n",
            "Before modification (mutable): [1, 2, 3], ID: 140076405054528\n",
            "After modification (mutable): [1, 2, 3, 100], ID: 140076405054528\n",
            "Outside function (mutable): [1, 2, 3, 100]\n"
          ]
        }
      ]
    },
    {
      "cell_type": "code",
      "source": [
        "#Write a program to demonstrate the use of logical operators0\n",
        "# Demonstrating Logical Operators in Python\n",
        "\n",
        "age = int(input(\" age: \"))\n",
        "income = int(input(\" monthly income: \"))\n",
        "if age >= 18 and income >= 5000:\n",
        "    print(\"You are eligible for a credit card.\")\n",
        "else:\n",
        "    print(\"You are not eligible for a credit card.\")\n",
        "if age >= 18 or income >= 5000:\n",
        "    print(\"You are eligible for a bank account.\")\n",
        "else:\n",
        "    print(\"You are not eligible for a bank account.\")\n",
        "is_student = input(\"Are you a student? (yes/no): \").lower() == \"yes\"\n",
        "\n",
        "if not is_student:\n",
        "    print(\"You may be eligible for a job.\")\n",
        "else:\n",
        "    print(\"You are a student, focus on your studies!\")\n"
      ],
      "metadata": {
        "colab": {
          "base_uri": "https://localhost:8080/"
        },
        "id": "J3pHt-2aMynC",
        "outputId": "e2c6de14-240e-4b3c-e6f2-c1ddd7c688f3"
      },
      "execution_count": 24,
      "outputs": [
        {
          "output_type": "stream",
          "name": "stdout",
          "text": [
            " age: 20\n",
            " monthly income: 5000\n",
            "You are eligible for a credit card.\n",
            "You are eligible for a bank account.\n",
            "Are you a student? (yes/no): yes\n",
            "You are a student, focus on your studies!\n"
          ]
        }
      ]
    },
    {
      "cell_type": "code",
      "source": [
        "# Write a Python program to convert user input from string to integer, float, and boolean types\n",
        "\n",
        "user_input = input(\"Enter a value: \")\n",
        "try:\n",
        "    int_value = int(user_input)\n",
        "    print(f\"Integer conversion: {int_value} (Type: {type(int_value)})\")\n",
        "except ValueError:\n",
        "    print(\"Cannot convert to integer.\")\n",
        "try:\n",
        "    float_value = float(user_input)\n",
        "    print(f\"Float conversion: {float_value} (Type: {type(float_value)})\")\n",
        "except ValueError:\n",
        "    print(\"Cannot convert to float.\")\n",
        "bool_value = bool(user_input)\n",
        "print(f\"Boolean conversion: {bool_value} (Type: {type(bool_value)})\")\n"
      ],
      "metadata": {
        "colab": {
          "base_uri": "https://localhost:8080/"
        },
        "id": "200ITjqrPEfj",
        "outputId": "97bc352e-01c4-4b90-9a71-8106f2633433"
      },
      "execution_count": 25,
      "outputs": [
        {
          "output_type": "stream",
          "name": "stdout",
          "text": [
            "Enter a value: 100\n",
            "Integer conversion: 100 (Type: <class 'int'>)\n",
            "Float conversion: 100.0 (Type: <class 'float'>)\n",
            "Boolean conversion: True (Type: <class 'bool'>)\n"
          ]
        }
      ]
    },
    {
      "cell_type": "code",
      "source": [
        "#Write code to demonstrate type casting with list elements0\n",
        "\n",
        "data = [\"10\", \"20.5\", \"True\", \"hello\", \"30\"]\n",
        "\n",
        "converted_list = []\n",
        "\n",
        "for item in data:\n",
        "    try:\n",
        "        converted_list.append(int(item))\n",
        "    except ValueError:\n",
        "        try:\n",
        "           # try converting to flot\n",
        "            converted_list.append(float(item))\n",
        "        except ValueError:\n",
        "            try:\n",
        "                # Try converting to boolean\n",
        "                if item.lower() == \"true\":\n",
        "                    converted_list.append(True)\n",
        "                elif item.lower() == \"false\":\n",
        "                    converted_list.append(False)\n",
        "                else:\n",
        "                    raise ValueError  # If it's not \"true\" or \"false\", treat it as an error\n",
        "            except ValueError:\n",
        "                # Keep it as a string if all conversions fail\n",
        "                converted_list.append(item)\n",
        "\n",
        "# Printing original and converted lists\n",
        "print(\"Original List:\", data)\n",
        "print(\"Converted List:\", converted_list)\n"
      ],
      "metadata": {
        "colab": {
          "base_uri": "https://localhost:8080/"
        },
        "id": "dJB5KQ3HPyFS",
        "outputId": "d21da15c-88cd-4d86-cc41-216b8a1a068e"
      },
      "execution_count": 27,
      "outputs": [
        {
          "output_type": "stream",
          "name": "stdout",
          "text": [
            "Original List: ['10', '20.5', 'True', 'hello', '30']\n",
            "Converted List: [10, 20.5, True, 'hello', 30]\n"
          ]
        }
      ]
    },
    {
      "cell_type": "code",
      "source": [
        "#Write a program that checks if a number is positive, negative, or zero\n",
        "# Taking user input as a string\n",
        "user_input = input(\"Enter a value \")\n",
        "try:\n",
        "    int_value = int(user_input)\n",
        "    print(f\"Integer conversion: {int_value} (Type: {type(int_value)})\")\n",
        "except ValueError:\n",
        "    print(\"Cannot convert to integer.\")\n",
        "\n",
        "# Converting to float\n",
        "try:\n",
        "    float_value = float(user_input)\n",
        "    print(f\"Float conversion: {float_value} (Type: {type(float_value)})\")\n",
        "except ValueError:\n",
        "    print(\"Cannot convert to float.\")\n",
        "\n",
        "# Converting to boolean\n",
        "bool_value = bool(user_input)  # Any non-empty string is True\n",
        "print(f\"Boolean conversion: {bool_value} (Type: {type(bool_value)})\")\n"
      ],
      "metadata": {
        "colab": {
          "base_uri": "https://localhost:8080/"
        },
        "id": "D5uuCtg5Qecx",
        "outputId": "3ed75f95-994c-469c-c794-e99356514f52"
      },
      "execution_count": 34,
      "outputs": [
        {
          "output_type": "stream",
          "name": "stdout",
          "text": [
            "Enter a value 100\n",
            "Integer conversion: 100 (Type: <class 'int'>)\n",
            "Float conversion: 100.0 (Type: <class 'float'>)\n",
            "Boolean conversion: True (Type: <class 'bool'>)\n"
          ]
        }
      ]
    },
    {
      "cell_type": "code",
      "source": [
        "#Write a Python program to find the sum of all even numbers between 1 and 50\n",
        "sum_even = 0\n",
        "for number in range(1,50):\n",
        "  if number%2 ==0:\n",
        "    sum_even += number\n",
        "    print(f\"the sum of all even numbers between 1 ans 50 is :\", sum_even)\n",
        ""
      ],
      "metadata": {
        "colab": {
          "base_uri": "https://localhost:8080/"
        },
        "id": "143TywAfSiwD",
        "outputId": "16f24ab8-2fdd-4f2c-f8f5-20a5a4a024b6"
      },
      "execution_count": 36,
      "outputs": [
        {
          "output_type": "stream",
          "name": "stdout",
          "text": [
            "the sum of all even numbers between 1 ans 50 is : 2\n",
            "the sum of all even numbers between 1 ans 50 is : 6\n",
            "the sum of all even numbers between 1 ans 50 is : 12\n",
            "the sum of all even numbers between 1 ans 50 is : 20\n",
            "the sum of all even numbers between 1 ans 50 is : 30\n",
            "the sum of all even numbers between 1 ans 50 is : 42\n",
            "the sum of all even numbers between 1 ans 50 is : 56\n",
            "the sum of all even numbers between 1 ans 50 is : 72\n",
            "the sum of all even numbers between 1 ans 50 is : 90\n",
            "the sum of all even numbers between 1 ans 50 is : 110\n",
            "the sum of all even numbers between 1 ans 50 is : 132\n",
            "the sum of all even numbers between 1 ans 50 is : 156\n",
            "the sum of all even numbers between 1 ans 50 is : 182\n",
            "the sum of all even numbers between 1 ans 50 is : 210\n",
            "the sum of all even numbers between 1 ans 50 is : 240\n",
            "the sum of all even numbers between 1 ans 50 is : 272\n",
            "the sum of all even numbers between 1 ans 50 is : 306\n",
            "the sum of all even numbers between 1 ans 50 is : 342\n",
            "the sum of all even numbers between 1 ans 50 is : 380\n",
            "the sum of all even numbers between 1 ans 50 is : 420\n",
            "the sum of all even numbers between 1 ans 50 is : 462\n",
            "the sum of all even numbers between 1 ans 50 is : 506\n",
            "the sum of all even numbers between 1 ans 50 is : 552\n",
            "the sum of all even numbers between 1 ans 50 is : 600\n"
          ]
        }
      ]
    },
    {
      "cell_type": "code",
      "source": [
        "#Write a program to reverse a string using a while loop0\n",
        "input_string = input(\"enter a string \")\n",
        "reversed_string =\"\"\n",
        "index = len(input_string)-1\n",
        "while index >= 0:\n",
        "  reversed_string += input_string[index]\n",
        "  index -=1\n",
        "  print(\"Reversed string:\", reversed_string)"
      ],
      "metadata": {
        "colab": {
          "base_uri": "https://localhost:8080/"
        },
        "id": "iRfw1rQBTfnI",
        "outputId": "397cda2c-8306-4045-9155-70c6e743fcbc"
      },
      "execution_count": 39,
      "outputs": [
        {
          "output_type": "stream",
          "name": "stdout",
          "text": [
            "enter a string abema\n",
            "Reversed string: a\n",
            "Reversed string: am\n",
            "Reversed string: ame\n",
            "Reversed string: ameb\n",
            "Reversed string: ameba\n"
          ]
        }
      ]
    },
    {
      "cell_type": "code",
      "source": [
        "#Write a Python program to calculate the factorial of a number provided by the user using a while loop\n",
        "num = int(input(\"enter a number:\"))\n",
        "factoral =1\n",
        "#Write a Python program to calculate the factorial of a number provided by the user using a while loop\n",
        "num = int(input(\"enter a number:\"))\n",
        "factoral =1\n",
        "if num< 0:\n",
        "  print(\"the factoral of 0 is 1.\")\n",
        "elif num == 0:\n",
        "    print(\"the factoral of 0 is 1.\")\n",
        "else:\n",
        "      while num > 0:\n",
        "        factoral *= num\n",
        "        num-=1\n",
        "      print(\"the factoral of the number is :\", factoral)\n",
        "      while num > 0:\n",
        "        factoral *= num\n",
        "        num-=1\n",
        "        print(\"the factoral of the number is :\", factoral)"
      ],
      "metadata": {
        "colab": {
          "base_uri": "https://localhost:8080/"
        },
        "id": "F6CwOEoIVgDh",
        "outputId": "40c5bbcd-0756-4d40-9acb-4b40f768bff2"
      },
      "execution_count": 41,
      "outputs": [
        {
          "output_type": "stream",
          "name": "stdout",
          "text": [
            "enter a number:21\n",
            "enter a number:17\n",
            "the factoral of the number is : 355687428096000\n"
          ]
        }
      ]
    }
  ]
}